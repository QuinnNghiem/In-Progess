{
 "cells": [
  {
   "cell_type": "markdown",
   "metadata": {},
   "source": [
    "# Hack the Market OA 2024 - Question 1\n",
    "\n",
    "This question consists of two parts (one coding and one written).\n",
    "\n",
    "## Part 1: Stock Price Prediction\n",
    "\n",
    "You are given an array of integers `prices` representing the daily stock prices of a company. Write a function called `stockPricePrediction` that returns an integer array such that `answer[i]` is the number of days you have to wait after the `i`th day to see a higher stock price. If there is no future day with a higher price, keep `answer[i] == 0` instead.\n",
    "\n",
    "### Example 1:\n",
    "Input: `prices = [100, 101, 102, 99, 98, 101, 103, 100]`\n",
    "\n",
    "Output: `[1, 1, 4, 2, 1, 1, 0, 0]`\n",
    "\n",
    "Explanation: On the first day (price = 100), you have to wait 1 day to get a higher price (101). Similarly, for the second day (101), the next higher price (102) occurs after 1 day. On the third day (102), it takes 4 days to see a higher price (103), and so on.\n",
    "\n",
    "### Example 2:\n",
    "Input: `prices = [30, 40, 50, 60]`\n",
    "\n",
    "Output: `[1, 1, 1, 0]`\n",
    "\n",
    "Explanation: On each day, the stock price is higher the next day, except for the last day.\n",
    "\n",
    "### Example 3:\n",
    "Input: `prices = [90, 60, 30]`\n",
    "\n",
    "Output: `[0, 0, 0]`\n",
    "\n",
    "Explanation: On the first day (price = 90), there are no future days with a higher price. On the second day (price = 60), there are also no future days with a higher price. Similarly, on the third day (price = 30), there are no future days with a higher price.\n",
    "\n",
    "### Constraints:\n",
    "- `1 <= prices.length <= 10^6`\n",
    "\n",
    "- `1 <= prices[i] <= 1000`\n",
    "\n",
    "### Requirements:\n",
    "\n",
    "- You must define and implement a function called `stockPricePrediction`.\n",
    "\n",
    "- The cummulative runtime of all test cases should be less than 5 seconds.\n",
    "\n",
    "- Leave useful comments in your solution."
   ]
  },
  {
   "cell_type": "code",
   "execution_count": 13,
   "metadata": {},
   "outputs": [],
   "source": [
    "from typing import List\n",
    "\n",
    "def stockPricePrediction(prices) -> list[int]:\n",
    "    n = len(prices)\n",
    "    answer = [0] * n\n",
    "    stack = []\n",
    "\n",
    "    for i in range(n):\n",
    "        while stack and prices[i] > prices[stack[-1]]:\n",
    "            prev_index = stack.pop()\n",
    "            answer[prev_index] = i - prev_index\n",
    "        stack.append(i)\n",
    "    return answer\n"
   ]
  },
  {
   "cell_type": "code",
   "execution_count": 17,
   "metadata": {},
   "outputs": [],
   "source": [
    "# Unit testing cell (feel free to modify this and/or add more tests as needed)\n",
    "\n",
    "prices1 = [100, 101, 102, 99, 98, 101, 103, 100]\n",
    "prices2 = [30, 40, 50, 60]\n",
    "prices3 = [90, 60, 30]\n",
    "\n",
    "assert stockPricePrediction(prices1) == [1, 1, 4, 2, 1, 1, 0, 0]\n",
    "assert stockPricePrediction(prices2) == [1, 1, 1, 0]\n",
    "assert stockPricePrediction(prices3) == [0, 0, 0]"
   ]
  },
  {
   "cell_type": "markdown",
   "metadata": {},
   "source": [
    "## Part 2: Time/Space Complexity Analysis\n",
    "\n",
    "State the time/space complexity (Big O notation) of your algorithm in part 1 provide a 1-2 sentence explanation.\n",
    "\n",
    "Time Complexity: O(n)\n",
    "\n",
    "Space Compleity: O(n)\n",
    "\n",
    "Explanation: Time Complexity: The algorithm processes each day (or index) in the prices array exactly once. Each index is pushed and popped from the stack at most once, resulting in a linear time complexity proportional to the size of the input array.\n",
    "\n",
    "Space Complexity: The stack can store up to n elements in the worst case, where n is the length of the prices array. Thus, the space complexity is linear."
   ]
  }
 ],
 "metadata": {
  "kernelspec": {
   "display_name": "Python 3 (ipykernel)",
   "language": "python",
   "name": "python3"
  },
  "language_info": {
   "codemirror_mode": {
    "name": "ipython",
    "version": 3
   },
   "file_extension": ".py",
   "mimetype": "text/x-python",
   "name": "python",
   "nbconvert_exporter": "python",
   "pygments_lexer": "ipython3",
   "version": "3.12.4"
  }
 },
 "nbformat": 4,
 "nbformat_minor": 4
}
