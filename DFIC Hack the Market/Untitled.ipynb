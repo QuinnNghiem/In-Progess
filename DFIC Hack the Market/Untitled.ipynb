{
 "cells": [
  {
   "cell_type": "code",
   "execution_count": null,
   "id": "b962bd46-a697-4833-b1d9-05a13d2ccf1b",
   "metadata": {},
   "outputs": [],
   "source": [
    "from typing import List\n",
    "\n",
    "def stockPricePrediction(prices) -> list[int]:\n",
    "    n = len(prices)\n",
    "    answer = [0] * n\n",
    "    stack = []\n",
    "\n",
    "    for i in range(n):\n",
    "        while stack and prices[i] > prices[stack[-1]]:\n",
    "            prev_index = stack.pop()\n",
    "            answer[prev_index] = i - prev_index\n",
    "        stack.append(i)\n",
    "    return answer\n",
    "\n",
    "\n",
    "prices1 = [100, 101, 102, 99, 98, 101, 103, 100]\n",
    "prices2 = [30, 40, 50, 60]\n",
    "prices3 = [90, 60, 30]\n",
    "\n",
    "print(stockPricePrediction(prices1))\n",
    "print(stockPricePrediction(prices2))\n",
    "print(stockPricePrediction(prices3))"
   ]
  },
  {
   "cell_type": "code",
   "execution_count": null,
   "id": "2d3c759b-4534-4014-8921-2629cba407d4",
   "metadata": {},
   "outputs": [],
   "source": [
    "import numpy as np\n",
    "import pandas as pd\n",
    "from scipy import stats, integrate\n",
    "import matplotlib.pyplot as plt\n",
    "import seaborn as sns"
   ]
  },
  {
   "cell_type": "code",
   "execution_count": null,
   "id": "24112b6b-cf14-42c1-a9d7-78994add3958",
   "metadata": {},
   "outputs": [],
   "source": [
    "flight_data=pd.read_csv(\"./flight_data.csv\")\n",
    "flight_data.head()"
   ]
  },
  {
   "cell_type": "code",
   "execution_count": null,
   "id": "1260b2f3-0add-4e84-9eb8-79b4aaa8b5dd",
   "metadata": {},
   "outputs": [],
   "source": [
    "# 1.1 Identify and display rows with missing values\n",
    "missing_rows = flight_data[flight_data.isnull().any(axis=1)]\n",
    "print(\"Rows with missing values:\")\n",
    "print(missing_rows)\n",
    "\n",
    "# 1.2 Remove rows with missing values\n",
    "cleaned_flight_data = flight_data.dropna()\n",
    "\n",
    "print(\"\\nCleaned dataset (first 5 rows):\")\n",
    "print(cleaned_flight_data.head())"
   ]
  },
  {
   "cell_type": "code",
   "execution_count": null,
   "id": "8354768b-1f46-46c0-b824-159a448129c5",
   "metadata": {},
   "outputs": [],
   "source": [
    "plt.figure(figsize=(10, 6))\n",
    "sns.barplot(data=top_10_destinations, x='Destination Airport', y='Number of Flights', palette='viridis')\n",
    "plt.title('Top 10 Destination Airports from NYC')\n",
    "plt.xlabel('Destination Airport')\n",
    "plt.ylabel('Number of Flights')\n",
    "plt.xticks(rotation=45)\n",
    "plt.tight_layout()\n",
    "plt.show()\n",
    "\n",
    "# Ensure datetime conversion\n",
    "flight_data['time_hour'] = pd.to_datetime(flight_data['time_hour'])\n",
    "\n",
    "# Extract month as MM-MMMM format\n",
    "flight_data['Month'] = flight_data['time_hour'].dt.strftime('%m-%B')\n",
    "\n",
    "# Group by Carrier and Month, calculate average departure delay\n",
    "avg_dep_delay = (\n",
    "    flight_data.groupby(['carrier', 'Month'])['dep_delay']\n",
    "    .mean()\n",
    "    .reset_index()\n",
    "    .rename(columns={'carrier': 'Carrier', 'dep_delay': 'Average Departure Delay'})\n",
    "    .sort_values(by=['Carrier', 'Month'])\n",
    ")\n",
    "\n",
    "# Display table\n",
    "print(avg_dep_delay)\n",
    "\n",
    "# Plot average departure delays for each carrier over months\n",
    "plt.figure(figsize=(12, 8))\n",
    "sns.lineplot(data=avg_dep_delay, x='Month', y='Average Departure Delay', hue='Carrier', marker='o')\n",
    "plt.title('Monthly Average Departure Delay by Carrier')\n",
    "plt.xlabel('Month')\n",
    "plt.ylabel('Average Departure Delay (minutes)')\n",
    "plt.xticks(rotation=45)\n",
    "plt.legend(title='Carrier')\n",
    "plt.tight_layout()\n",
    "plt.show()"
   ]
  }
 ],
 "metadata": {
  "kernelspec": {
   "display_name": "Python 3 (ipykernel)",
   "language": "python",
   "name": "python3"
  },
  "language_info": {
   "codemirror_mode": {
    "name": "ipython",
    "version": 3
   },
   "file_extension": ".py",
   "mimetype": "text/x-python",
   "name": "python",
   "nbconvert_exporter": "python",
   "pygments_lexer": "ipython3",
   "version": "3.12.4"
  }
 },
 "nbformat": 4,
 "nbformat_minor": 5
}
